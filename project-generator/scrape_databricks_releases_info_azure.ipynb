{
 "cells": [
  {
   "metadata": {
    "ExecuteTime": {
     "end_time": "2024-06-25T06:52:21.935728Z",
     "start_time": "2024-06-25T06:52:21.395698Z"
    }
   },
   "cell_type": "code",
   "source": [
    "import requests\n",
    "from lxml import html\n",
    "import pandas as pd\n",
    "from functools import cache"
   ],
   "id": "48f97ef890133a50",
   "outputs": [],
   "execution_count": 1
  },
  {
   "metadata": {
    "ExecuteTime": {
     "end_time": "2024-06-25T07:10:32.539634Z",
     "start_time": "2024-06-25T07:10:32.526634Z"
    }
   },
   "cell_type": "code",
   "source": [
    "RELEASES_URL = 'https://learn.microsoft.com/en-us/azure/databricks/release-notes/runtime/'\n",
    "\n",
    "LTS_RELEASES_XPATH = '//table[1]'\n",
    "ALL_RELEASES_XPATH = '//table[2]'\n",
    "\n",
    "INSTALLED_JAVA_SCALA_LIBS_XPATH = '//table[3]'\n",
    "INSTALLED_JAVA_SCALA_LIBS_ML_CPU_XPATH = '//table[3]'\n",
    "INSTALLED_JAVA_SCALA_LIBS_ML_GPU_XPATH = '//table[4]'\n",
    "\n",
    "SCALA_VERSION_XPATH = '//li/strong[text()=\"Scala\"]/text()'\n",
    "DELTA_LAKE_VERSION_XPATH = '//li/strong[text()=\"Delta Lake\"]/text()'"
   ],
   "id": "dcfc44a36c5e917c",
   "outputs": [],
   "execution_count": 36
  },
  {
   "metadata": {
    "ExecuteTime": {
     "end_time": "2024-06-25T07:04:45.155549Z",
     "start_time": "2024-06-25T07:04:45.135551Z"
    }
   },
   "cell_type": "code",
   "source": [
    "@cache\n",
    "def load_content(url):\n",
    "    # with open(\n",
    "    #         '../tmp/Databricks Runtime release notes versions and compatibility - Azure Databricks _ Microsoft Learn.html',\n",
    "    #         'r') as f:\n",
    "    #     return f.read()  #  \n",
    "        return requests.get(url).content\n",
    "\n",
    "\n",
    "def extract_from_content(content, xpath):\n",
    "    return html.tostring(html.fromstring(content).xpath(xpath)[0])\n",
    "\n",
    "\n",
    "def extract_from_content2(content, xpath):\n",
    "    return html.fromstring(content).xpath(xpath)\n",
    "\n",
    "\n",
    "def load_table(url, xpath):\n",
    "    content = load_content(url)\n",
    "    table_html = extract_from_content(content, xpath)\n",
    "    return pd.read_html(table_html)[0]"
   ],
   "id": "f7626bc52ef8f618",
   "outputs": [],
   "execution_count": 20
  },
  {
   "metadata": {
    "ExecuteTime": {
     "end_time": "2024-06-25T07:04:48.262712Z",
     "start_time": "2024-06-25T07:04:47.690964Z"
    }
   },
   "cell_type": "code",
   "source": "releases = load_table(RELEASES_URL, ALL_RELEASES_XPATH)",
   "id": "a813a3063cdf577f",
   "outputs": [],
   "execution_count": 21
  },
  {
   "metadata": {
    "ExecuteTime": {
     "end_time": "2024-06-25T07:09:56.856149Z",
     "start_time": "2024-06-25T07:09:45.407945Z"
    }
   },
   "cell_type": "code",
   "source": [
    "size = len(releases)\n",
    "releases['spark_version'] = releases['Apache Spark version']\n",
    "releases['release_date'] = pd.to_datetime(releases['Release date'], format='%b %d, %Y')\n",
    "releases['end_of_support_date'] = pd.to_datetime(releases['End-of-support date'], format='%b %d, %Y')\n",
    "releases['version'] = releases['Version'].transform(lambda v: v.split()[0])\n",
    "releases['is_lts'] = releases['Version'].transform(lambda v: v.upper().endswith('LTS'))\n",
    "releases['is_ml'] = pd.Series([[True, False]] * size)  # TODO: think of a better way\n",
    "releases_exploded_tmp = releases.explode('is_ml')\n",
    "releases_exploded_tmp['is_gpu_accelerated'] = releases_exploded_tmp['is_ml'].apply(\n",
    "    lambda is_ml: [True, False] if is_ml else None)  # TODO: think of a better way\n",
    "releases_exploded = releases_exploded_tmp.explode('is_gpu_accelerated')\n",
    "\n",
    "\n",
    "def build_relative_path(version, is_lts, is_ml, is_gpu_accelerated):\n",
    "    if is_ml:\n",
    "        path = f'runtime-{version}{\"-lts\" if is_lts else \"\"}' + '/runtime-' + version\n",
    "    else:\n",
    "        path = 'runtime-' + version\n",
    "    if is_lts:\n",
    "        path += '-lts'\n",
    "    if is_ml and is_gpu_accelerated:\n",
    "        path += '-ml-gpu'\n",
    "    elif is_ml and not is_gpu_accelerated:\n",
    "        path += '-ml-cpu'\n",
    "    return path\n",
    "\n",
    "\n",
    "def build_url(version, is_lts, is_ml):\n",
    "    if is_ml and is_lts:\n",
    "        suffix = 'lts-ml'\n",
    "    elif is_ml and not is_lts:\n",
    "        suffix = 'ml'\n",
    "    elif not is_ml and is_lts:\n",
    "        suffix = 'lts'\n",
    "    else:\n",
    "        suffix = ''\n",
    "    url = f'https://learn.microsoft.com/en-us/azure/databricks/release-notes/runtime/{version}{suffix}'\n",
    "    return url\n",
    "\n",
    "\n",
    "releases_exploded['relative_path'] = releases_exploded.apply(lambda r: build_relative_path(\n",
    "    r['version'],\n",
    "    r['is_lts'],\n",
    "    r['is_ml'],\n",
    "    r['is_gpu_accelerated']\n",
    "), axis=1)\n",
    "releases_exploded['url'] = releases_exploded.apply(lambda r: build_url(\n",
    "    r['version'],\n",
    "    r['is_lts'],\n",
    "    r['is_ml']\n",
    "), axis=1)\n",
    "\n",
    "\n",
    "def extract_version(url, xpath):\n",
    "    arr = extract_from_content2(load_content(url), xpath)\n",
    "    if len(arr) > 0:\n",
    "        return arr[0].strip(': ')\n",
    "    else:\n",
    "        return None\n",
    "\n",
    "\n",
    "releases_exploded['scala_version'] = releases_exploded.apply(lambda r: extract_version(r['url'], SCALA_VERSION_XPATH),\n",
    "                                                             axis=1)\n",
    "releases_exploded['delta_lake_version'] = releases_exploded.apply(\n",
    "    lambda r: extract_version(r['url'], DELTA_LAKE_VERSION_XPATH), axis=1)\n",
    "releases_exploded['scala_version'] = releases_exploded.groupby('version')['scala_version'].transform(\n",
    "    lambda g: g.ffill().bfill())\n",
    "releases_exploded['delta_lake_version'] = releases_exploded.groupby('version')['delta_lake_version'].transform(\n",
    "    lambda g: g.ffill().bfill())"
   ],
   "id": "d308cb05197c4dbc",
   "outputs": [],
   "execution_count": 31
  },
  {
   "metadata": {
    "ExecuteTime": {
     "end_time": "2024-06-25T07:09:56.870911Z",
     "start_time": "2024-06-25T07:09:56.857913Z"
    }
   },
   "cell_type": "code",
   "source": [
    "releases_exploded[\n",
    "    ['version', 'is_lts', 'is_ml', 'is_gpu_accelerated', 'spark_version', 'scala_version', 'delta_lake_version',\n",
    "     'release_date', 'end_of_support_date',\n",
    "     'relative_path', 'url']].sort_values(by=['release_date', 'is_lts', 'is_ml', 'is_gpu_accelerated']).to_parquet(\n",
    "    'releases.parquet', index=False)"
   ],
   "id": "3193ce05d102caf1",
   "outputs": [],
   "execution_count": 32
  },
  {
   "metadata": {
    "ExecuteTime": {
     "end_time": "2024-06-25T07:10:37.832570Z",
     "start_time": "2024-06-25T07:10:37.285408Z"
    }
   },
   "cell_type": "code",
   "source": [
    "poms_configurations = releases_exploded[['version', 'is_lts', 'is_ml', 'is_gpu_accelerated', 'spark_version', 'url']]\n",
    "\n",
    "installed_libraries = []\n",
    "\n",
    "for index, pc in poms_configurations.iterrows():\n",
    "    url = pc['url']\n",
    "    print('Current configuration version: ', pc['version'], 'is_ml', pc['is_ml'])\n",
    "    if not pc['is_ml']:\n",
    "        table = load_table(url, INSTALLED_JAVA_SCALA_LIBS_XPATH)\n",
    "    else:\n",
    "        if pc['is_gpu_accelerated']:\n",
    "            table = load_table(url, INSTALLED_JAVA_SCALA_LIBS_ML_GPU_XPATH)\n",
    "        else:\n",
    "            table = load_table(url, INSTALLED_JAVA_SCALA_LIBS_ML_CPU_XPATH)\n",
    "    table_renamed = table.rename(columns={\n",
    "        'Group ID': 'group_id',\n",
    "        'Artifact ID': 'artifact_id',\n",
    "        'Version': 'artifact_version'})\n",
    "    table_renamed[[\n",
    "        'version',\n",
    "        'is_lts',\n",
    "        'is_ml',\n",
    "        'is_gpu_accelerated'\n",
    "    ]] = pc.loc[[\n",
    "        'version',\n",
    "        'is_lts',\n",
    "        'is_ml',\n",
    "        'is_gpu_accelerated'\n",
    "    ]].values  # TODO: think of a better way\n",
    "    installed_libraries.append(table_renamed)\n",
    "\n",
    "installed_libraries = pd.concat(installed_libraries, ignore_index=True)"
   ],
   "id": "dc45ea12bcc5bc4e",
   "outputs": [
    {
     "name": "stdout",
     "output_type": "stream",
     "text": [
      "Current configuration version:  15.2 is_ml True\n",
      "Current configuration version:  15.2 is_ml True\n",
      "Current configuration version:  15.2 is_ml False\n",
      "Current configuration version:  15.1 is_ml True\n",
      "Current configuration version:  15.1 is_ml True\n",
      "Current configuration version:  15.1 is_ml False\n",
      "Current configuration version:  14.3 is_ml True\n",
      "Current configuration version:  14.3 is_ml True\n",
      "Current configuration version:  14.3 is_ml False\n",
      "Current configuration version:  14.2 is_ml True\n",
      "Current configuration version:  14.2 is_ml True\n",
      "Current configuration version:  14.2 is_ml False\n",
      "Current configuration version:  14.1 is_ml True\n",
      "Current configuration version:  14.1 is_ml True\n",
      "Current configuration version:  14.1 is_ml False\n",
      "Current configuration version:  13.3 is_ml True\n",
      "Current configuration version:  13.3 is_ml True\n",
      "Current configuration version:  13.3 is_ml False\n",
      "Current configuration version:  12.2 is_ml True\n",
      "Current configuration version:  12.2 is_ml True\n",
      "Current configuration version:  12.2 is_ml False\n",
      "Current configuration version:  11.3 is_ml True\n",
      "Current configuration version:  11.3 is_ml True\n",
      "Current configuration version:  11.3 is_ml False\n",
      "Current configuration version:  10.4 is_ml True\n",
      "Current configuration version:  10.4 is_ml True\n",
      "Current configuration version:  10.4 is_ml False\n",
      "Current configuration version:  9.1 is_ml True\n",
      "Current configuration version:  9.1 is_ml True\n",
      "Current configuration version:  9.1 is_ml False\n"
     ]
    }
   ],
   "execution_count": 37
  },
  {
   "metadata": {
    "ExecuteTime": {
     "end_time": "2024-06-25T07:10:42.431310Z",
     "start_time": "2024-06-25T07:10:42.401311Z"
    }
   },
   "cell_type": "code",
   "source": [
    "installed_libraries[\n",
    "    ['version', 'is_lts', 'is_ml', 'is_gpu_accelerated', 'group_id', 'artifact_id', 'artifact_version']].sort_values(\n",
    "    by=['version', 'is_lts', 'is_ml', 'is_gpu_accelerated', 'group_id', 'artifact_id']).to_parquet(\n",
    "    'installed_libraries.parquet', index=False)"
   ],
   "id": "380a212bc88551d1",
   "outputs": [],
   "execution_count": 38
  }
 ],
 "metadata": {
  "kernelspec": {
   "display_name": "Python 3",
   "language": "python",
   "name": "python3"
  },
  "language_info": {
   "codemirror_mode": {
    "name": "ipython",
    "version": 2
   },
   "file_extension": ".py",
   "mimetype": "text/x-python",
   "name": "python",
   "nbconvert_exporter": "python",
   "pygments_lexer": "ipython2",
   "version": "2.7.6"
  }
 },
 "nbformat": 4,
 "nbformat_minor": 5
}
